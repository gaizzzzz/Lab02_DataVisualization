{
 "cells": [
  {
   "cell_type": "markdown",
   "id": "65ef275b",
   "metadata": {},
   "source": [
    "<div style=\"text-align: center; background-color: #0A6EBD; font-family: 'Trebuchet MS', Arial, sans-serif; color: white; padding: 20px; font-size: 40px; font-weight: bold; border-radius: 0 0 0 0; box-shadow: 0px 6px 8px rgba(0, 0, 0, 0.2);\">\n",
    "  🏫 FIT@HCMUS, VNU-HCM 🏫\n",
    "</div>\n",
    "<div style=\"text-align: center; background-color: #0A6EBD; font-family: 'Trebuchet MS', Arial, sans-serif; color: white; padding: 20px; font-size: 40px; font-weight: bold; border-radius: 0 0 0 0; box-shadow: 0px 6px 8px rgba(0, 0, 0, 0.2);\">\n",
    "  Lab 02 - Data Visualization \n",
    "    <div style=\"text-align: center; background-color: #0A60BD; font-family: 'Trebuchet MS', Arial, sans-serif; color: white; padding: 20px; font-size: 40px; font-weight: bold; border-radius: 0 0 0 0; box-shadow: 0px 6px 8px rgba(0, 0, 0, 0.2);\">\n",
    "    Working with Time-series data \n",
    "</div>"
   ]
  },
  {
   "cell_type": "markdown",
   "id": "32d278f9",
   "metadata": {},
   "source": [
    "<div style=\"text-align: center; background-color: #5A96E3; font-family: 'Trebuchet MS', Arial, sans-serif; color: white; padding: 20px; font-size: 40px; font-weight: bold; border-radius: 0 0 0 0; box-shadow: 0px 6px 8px rgba(0, 0, 0, 0.2);\">\n",
    "  Stage 2 - Data Preprocessing 📌\n",
    "</div>"
   ]
  },
  {
   "cell_type": "code",
   "execution_count": 1,
   "id": "4c9a9503-12a4-40c7-bb00-98c3b5a6ad03",
   "metadata": {},
   "outputs": [],
   "source": [
    "import pandas as pd\n",
    "import numpy as np\n",
    "import matplotlib.pyplot as plt"
   ]
  },
  {
   "cell_type": "markdown",
   "id": "c17750dd-8b3c-4c93-a68a-03d89a3406da",
   "metadata": {},
   "source": [
    "## About data"
   ]
  },
  {
   "cell_type": "markdown",
   "id": "a0da2859-7602-473c-8b58-ed0be6083f0f",
   "metadata": {},
   "source": [
    "### Scenerio\n",
    "Nhóm sinh viên hiện đang thực hiện một dự án về chuỗi thời gian. Sau khi xem xét nhiều lĩnh vực khác nhau, nhóm quyết định chọn dữ liệu về lưu lượng hành khách hàng không hàng tháng ở Hoa Kỳ từ năm 2000 đến năm 2020. Bối cảnh cụ thể là nhu cầu hiểu rõ xu hướng di chuyển bằng đường hàng không trong những năm qua, cũng như tác động của các sự kiện quan trọng như khủng hoảng kinh tế và đại dịch Covid-19 đối với ngành hàng không."
   ]
  },
  {
   "cell_type": "markdown",
   "id": "2dc891f4-249a-4fef-b722-8905e0a1e6a1",
   "metadata": {},
   "source": [
    "### Source and license\n",
    "Data Source: Bureau of Transportation Statistics  \n",
    "Tập dữ liệu này được lấy từ dataworld, bao gồm nhiều tập dữ liệu công khai. Vì vậy, chúng ta có thể sử dụng chúng cho mục đích học tập.s."
   ]
  },
  {
   "cell_type": "markdown",
   "id": "403998a7-971d-4429-abd6-f607f1149f8b",
   "metadata": {},
   "source": [
    "### Data collection method\n",
    "Báo cáo tự động: Hệ thống báo cáo tự động từ các hãng hàng không, nơi dữ liệu hành khách được gửi trực tiếp đến cơ quan thống kê.  \n",
    "Hệ thống đặt vé và đặt vé: Sử dụng dữ liệu từ hệ thống đặt vé và đặt vé của các hãng hàng không để tổng hợp số lượng hành khách."
   ]
  },
  {
   "cell_type": "markdown",
   "id": "b22af202",
   "metadata": {},
   "source": [
    "## Read data from Website"
   ]
  },
  {
   "cell_type": "code",
   "execution_count": 2,
   "id": "99291448-264e-4a34-aee9-a9d1c8657536",
   "metadata": {
    "scrolled": true
   },
   "outputs": [],
   "source": [
    "url = \"https://query.data.world/s/foyszeqx4lyy7jhypsie6yusy4lkqz?dws=00000\"\n",
    "df = pd.read_csv(url)"
   ]
  },
  {
   "cell_type": "code",
   "execution_count": 3,
   "id": "cc8c3a71-e93f-41b9-ba75-bfa34b0ec226",
   "metadata": {},
   "outputs": [
    {
     "data": {
      "text/html": [
       "<div>\n",
       "<style scoped>\n",
       "    .dataframe tbody tr th:only-of-type {\n",
       "        vertical-align: middle;\n",
       "    }\n",
       "\n",
       "    .dataframe tbody tr th {\n",
       "        vertical-align: top;\n",
       "    }\n",
       "\n",
       "    .dataframe thead th {\n",
       "        text-align: right;\n",
       "    }\n",
       "</style>\n",
       "<table border=\"1\" class=\"dataframe\">\n",
       "  <thead>\n",
       "    <tr style=\"text-align: right;\">\n",
       "      <th></th>\n",
       "      <th>Sum_PASSENGERS</th>\n",
       "      <th>AIRLINE_ID</th>\n",
       "      <th>CARRIER_NAME</th>\n",
       "      <th>ORIGIN</th>\n",
       "      <th>ORIGIN_CITY_NAME</th>\n",
       "      <th>ORIGIN_STATE_ABR</th>\n",
       "      <th>ORIGIN_STATE_NM</th>\n",
       "      <th>ORIGIN_COUNTRY</th>\n",
       "      <th>ORIGIN_COUNTRY_NAME</th>\n",
       "      <th>DEST</th>\n",
       "      <th>DEST_CITY_NAME</th>\n",
       "      <th>DEST_STATE_ABR</th>\n",
       "      <th>DEST_STATE_NM</th>\n",
       "      <th>DEST_COUNTRY</th>\n",
       "      <th>DEST_COUNTRY_NAME</th>\n",
       "      <th>YEAR</th>\n",
       "      <th>MONTH</th>\n",
       "    </tr>\n",
       "  </thead>\n",
       "  <tbody>\n",
       "    <tr>\n",
       "      <th>0</th>\n",
       "      <td>0</td>\n",
       "      <td>NaN</td>\n",
       "      <td>NaN</td>\n",
       "      <td>AEX</td>\n",
       "      <td>Alexandria, LA</td>\n",
       "      <td>LA</td>\n",
       "      <td>Louisiana</td>\n",
       "      <td>US</td>\n",
       "      <td>United States</td>\n",
       "      <td>AEX</td>\n",
       "      <td>Alexandria, LA</td>\n",
       "      <td>LA</td>\n",
       "      <td>Louisiana</td>\n",
       "      <td>US</td>\n",
       "      <td>United States</td>\n",
       "      <td>2015</td>\n",
       "      <td>3</td>\n",
       "    </tr>\n",
       "    <tr>\n",
       "      <th>1</th>\n",
       "      <td>0</td>\n",
       "      <td>NaN</td>\n",
       "      <td>NaN</td>\n",
       "      <td>AEX</td>\n",
       "      <td>Alexandria, LA</td>\n",
       "      <td>LA</td>\n",
       "      <td>Louisiana</td>\n",
       "      <td>US</td>\n",
       "      <td>United States</td>\n",
       "      <td>AFW</td>\n",
       "      <td>Dallas/Fort Worth, TX</td>\n",
       "      <td>TX</td>\n",
       "      <td>Texas</td>\n",
       "      <td>US</td>\n",
       "      <td>United States</td>\n",
       "      <td>2015</td>\n",
       "      <td>4</td>\n",
       "    </tr>\n",
       "    <tr>\n",
       "      <th>2</th>\n",
       "      <td>0</td>\n",
       "      <td>NaN</td>\n",
       "      <td>NaN</td>\n",
       "      <td>AEX</td>\n",
       "      <td>Alexandria, LA</td>\n",
       "      <td>LA</td>\n",
       "      <td>Louisiana</td>\n",
       "      <td>US</td>\n",
       "      <td>United States</td>\n",
       "      <td>ATL</td>\n",
       "      <td>Atlanta, GA</td>\n",
       "      <td>GA</td>\n",
       "      <td>Georgia</td>\n",
       "      <td>US</td>\n",
       "      <td>United States</td>\n",
       "      <td>2015</td>\n",
       "      <td>3</td>\n",
       "    </tr>\n",
       "    <tr>\n",
       "      <th>3</th>\n",
       "      <td>89</td>\n",
       "      <td>NaN</td>\n",
       "      <td>NaN</td>\n",
       "      <td>AEX</td>\n",
       "      <td>Alexandria, LA</td>\n",
       "      <td>LA</td>\n",
       "      <td>Louisiana</td>\n",
       "      <td>US</td>\n",
       "      <td>United States</td>\n",
       "      <td>BOG</td>\n",
       "      <td>Bogota, Colombia</td>\n",
       "      <td>NaN</td>\n",
       "      <td>NaN</td>\n",
       "      <td>CO</td>\n",
       "      <td>Colombia</td>\n",
       "      <td>2015</td>\n",
       "      <td>1</td>\n",
       "    </tr>\n",
       "    <tr>\n",
       "      <th>4</th>\n",
       "      <td>108</td>\n",
       "      <td>NaN</td>\n",
       "      <td>NaN</td>\n",
       "      <td>AEX</td>\n",
       "      <td>Alexandria, LA</td>\n",
       "      <td>LA</td>\n",
       "      <td>Louisiana</td>\n",
       "      <td>US</td>\n",
       "      <td>United States</td>\n",
       "      <td>BOG</td>\n",
       "      <td>Bogota, Colombia</td>\n",
       "      <td>NaN</td>\n",
       "      <td>NaN</td>\n",
       "      <td>CO</td>\n",
       "      <td>Colombia</td>\n",
       "      <td>2015</td>\n",
       "      <td>3</td>\n",
       "    </tr>\n",
       "  </tbody>\n",
       "</table>\n",
       "</div>"
      ],
      "text/plain": [
       "   Sum_PASSENGERS  AIRLINE_ID CARRIER_NAME ORIGIN ORIGIN_CITY_NAME  \\\n",
       "0               0         NaN          NaN    AEX   Alexandria, LA   \n",
       "1               0         NaN          NaN    AEX   Alexandria, LA   \n",
       "2               0         NaN          NaN    AEX   Alexandria, LA   \n",
       "3              89         NaN          NaN    AEX   Alexandria, LA   \n",
       "4             108         NaN          NaN    AEX   Alexandria, LA   \n",
       "\n",
       "  ORIGIN_STATE_ABR ORIGIN_STATE_NM ORIGIN_COUNTRY ORIGIN_COUNTRY_NAME DEST  \\\n",
       "0               LA       Louisiana             US       United States  AEX   \n",
       "1               LA       Louisiana             US       United States  AFW   \n",
       "2               LA       Louisiana             US       United States  ATL   \n",
       "3               LA       Louisiana             US       United States  BOG   \n",
       "4               LA       Louisiana             US       United States  BOG   \n",
       "\n",
       "          DEST_CITY_NAME DEST_STATE_ABR DEST_STATE_NM DEST_COUNTRY  \\\n",
       "0         Alexandria, LA             LA     Louisiana           US   \n",
       "1  Dallas/Fort Worth, TX             TX         Texas           US   \n",
       "2            Atlanta, GA             GA       Georgia           US   \n",
       "3       Bogota, Colombia            NaN           NaN           CO   \n",
       "4       Bogota, Colombia            NaN           NaN           CO   \n",
       "\n",
       "  DEST_COUNTRY_NAME  YEAR  MONTH  \n",
       "0     United States  2015      3  \n",
       "1     United States  2015      4  \n",
       "2     United States  2015      3  \n",
       "3          Colombia  2015      1  \n",
       "4          Colombia  2015      3  "
      ]
     },
     "execution_count": 3,
     "metadata": {},
     "output_type": "execute_result"
    }
   ],
   "source": [
    "df.head()"
   ]
  },
  {
   "cell_type": "markdown",
   "id": "b0d28355-2016-4cea-8016-d8df944d0135",
   "metadata": {},
   "source": [
    "**Ý nghĩa mỗi dòng:** Mỗi dòng trong bảng dữ liệu này đại diện cho thông tin về lượng hành khách trên các chuyến bay cụ thể, từ một điểm xuất phát (origin) đến một điểm đến (destination) trong một khoảng thời gian nhất định (năm và tháng).\n",
    "- Có vấn đề các dòng có ý nghĩa khác nhau không? - Không có vấn đề các dòng ý nghĩa khác nhau\n",
    "\n",
    "**Ý nghĩa các cột**:  \n",
    "`Sum_PASSENGERS`: Tổng số hành khách trên chuyến bay.  \n",
    "`AIRLINE_ID`: Mã số của hãng hàng không.  \n",
    "`CARRIER_NAME`: Tên hãng hàng không.  \n",
    "`ORIGIN`: Mã sân bay xuất phát.  \n",
    "`ORIGIN_CITY_NAME`: Tên thành phố xuất phát.  \n",
    "`ORIGIN_STATE_ABR`: Viết tắt của bang xuất phát.  \n",
    "`ORIGIN_STATE_NM`: Tên đầy đủ của bang xuất phát.  \n",
    "`ORIGIN_COUNTRY`: Mã quốc gia xuất phát.  \n",
    "`ORIGIN_COUNTRY_NAME`: Tên quốc gia xuất phát.  \n",
    "`DEST`: Mã sân bay đích đến.  \n",
    "`DEST_CITY_NAME`: Tên thành phố đích đến.  \n",
    "`DEST_STATE_ABR`: Viết tắt của bang đích đến.  \n",
    "`DEST_STATE_NM`: Tên đầy đủ của bang đích đến.  \n",
    "`DEST_COUNTRY`: Mã quốc gia đích đến.  \n",
    "`DEST_COUNTRY_NAME`: Tên quốc gia đích đến.  \n",
    "`YEAR`: Năm thực hiện chuyến bay.  \n",
    "`MONTH`: Tháng thực hiện chuyến bay."
   ]
  },
  {
   "cell_type": "markdown",
   "id": "8a7d670a-db6e-4f09-80eb-dae906c579bd",
   "metadata": {},
   "source": []
  },
  {
   "cell_type": "code",
   "execution_count": 4,
   "id": "c6f61fbf-186b-42fd-864b-2e3244c963b2",
   "metadata": {},
   "outputs": [
    {
     "data": {
      "text/plain": [
       "(6278820, 17)"
      ]
     },
     "execution_count": 4,
     "metadata": {},
     "output_type": "execute_result"
    }
   ],
   "source": [
    "n_rows=df.shape[0]\n",
    "n_cols=df.shape[1]\n",
    "n_rows, n_cols"
   ]
  },
  {
   "cell_type": "code",
   "execution_count": 5,
   "id": "5258b37e-1405-4a55-bbe2-f7237b5bbb91",
   "metadata": {},
   "outputs": [
    {
     "data": {
      "text/plain": [
       "0"
      ]
     },
     "execution_count": 5,
     "metadata": {},
     "output_type": "execute_result"
    }
   ],
   "source": [
    "duplicated_rows = df[df.duplicated()]\n",
    "len(duplicated_rows)"
   ]
  },
  {
   "cell_type": "code",
   "execution_count": 6,
   "id": "bb065745-b01e-46fb-9ad3-c956670c3db3",
   "metadata": {},
   "outputs": [
    {
     "name": "stdout",
     "output_type": "stream",
     "text": [
      "<class 'pandas.core.frame.DataFrame'>\n",
      "RangeIndex: 6278820 entries, 0 to 6278819\n",
      "Data columns (total 17 columns):\n",
      " #   Column               Dtype  \n",
      "---  ------               -----  \n",
      " 0   Sum_PASSENGERS       int64  \n",
      " 1   AIRLINE_ID           float64\n",
      " 2   CARRIER_NAME         object \n",
      " 3   ORIGIN               object \n",
      " 4   ORIGIN_CITY_NAME     object \n",
      " 5   ORIGIN_STATE_ABR     object \n",
      " 6   ORIGIN_STATE_NM      object \n",
      " 7   ORIGIN_COUNTRY       object \n",
      " 8   ORIGIN_COUNTRY_NAME  object \n",
      " 9   DEST                 object \n",
      " 10  DEST_CITY_NAME       object \n",
      " 11  DEST_STATE_ABR       object \n",
      " 12  DEST_STATE_NM        object \n",
      " 13  DEST_COUNTRY         object \n",
      " 14  DEST_COUNTRY_NAME    object \n",
      " 15  YEAR                 int64  \n",
      " 16  MONTH                int64  \n",
      "dtypes: float64(1), int64(3), object(13)\n",
      "memory usage: 814.4+ MB\n"
     ]
    }
   ],
   "source": [
    "df.info()"
   ]
  },
  {
   "cell_type": "markdown",
   "id": "20490289-fded-403d-b97f-d7d198e6a174",
   "metadata": {},
   "source": [
    "## Convert data types\n",
    "\n",
    "Ta nhận thấy `AIRLINE_ID` không phải là cột dạng số bởi vì ta sẽ không thực hiện tính toán trên nó, vì vậy ta chuyển nó sang dạng object"
   ]
  },
  {
   "cell_type": "code",
   "execution_count": 7,
   "id": "602534d6-b5e7-4b20-abd0-c98c9f137d61",
   "metadata": {},
   "outputs": [],
   "source": [
    "df['AIRLINE_ID'] = df['AIRLINE_ID'].astype(str)"
   ]
  },
  {
   "cell_type": "markdown",
   "id": "9a3398d5-8a9f-4d40-a134-659b15e12e58",
   "metadata": {},
   "source": [
    "Tiếp theo, ta kiểm tra tỉ lệ giá trị thiếu ở mỗi cột"
   ]
  },
  {
   "cell_type": "code",
   "execution_count": 8,
   "id": "392caf39-fddc-43b2-af15-a7b13c7df8ae",
   "metadata": {},
   "outputs": [
    {
     "data": {
      "text/plain": [
       "Sum_PASSENGERS         0.000000\n",
       "AIRLINE_ID             0.000000\n",
       "CARRIER_NAME           0.007135\n",
       "ORIGIN                 0.000000\n",
       "ORIGIN_CITY_NAME       0.000000\n",
       "ORIGIN_STATE_ABR       8.941823\n",
       "ORIGIN_STATE_NM        8.941823\n",
       "ORIGIN_COUNTRY         0.000032\n",
       "ORIGIN_COUNTRY_NAME    0.000000\n",
       "DEST                   0.000000\n",
       "DEST_CITY_NAME         0.000000\n",
       "DEST_STATE_ABR         9.388149\n",
       "DEST_STATE_NM          9.388149\n",
       "DEST_COUNTRY           0.000111\n",
       "DEST_COUNTRY_NAME      0.000000\n",
       "YEAR                   0.000000\n",
       "MONTH                  0.000000\n",
       "dtype: float64"
      ]
     },
     "execution_count": 8,
     "metadata": {},
     "output_type": "execute_result"
    }
   ],
   "source": [
    "missing_values = df.isnull().sum()\n",
    "\n",
    "# Calculate missing ratio for each column\n",
    "missing_ratio = (missing_values / len(df)) * 100\n",
    "missing_ratio"
   ]
  },
  {
   "cell_type": "markdown",
   "id": "ee43d6ba-2104-419c-996e-dc461d1f5bc5",
   "metadata": {},
   "source": [
    "Với những cột có missing value < 1%, ta sẽ xóa những dòng thiếu ở các cột đó vì điều đó ít gây ảnh hưởng đến dữ liệu."
   ]
  },
  {
   "cell_type": "code",
   "execution_count": 9,
   "id": "7ec0c172-6617-4fb6-b4d5-4c555787b748",
   "metadata": {},
   "outputs": [],
   "source": [
    "cols_to_drop_na = missing_ratio[missing_ratio < 1].index\n",
    "df = df.dropna(subset=cols_to_drop_na)"
   ]
  },
  {
   "cell_type": "markdown",
   "id": "40989353-1b58-47e1-8b8e-ef607369932e",
   "metadata": {},
   "source": [
    "Cuối cùng, kiểm tra xem có những cột nào trùng giá trị với nhau hay không"
   ]
  },
  {
   "cell_type": "code",
   "execution_count": 10,
   "id": "c9a57909-b9c8-405a-b912-ebcd79093937",
   "metadata": {},
   "outputs": [],
   "source": [
    "for column in df.columns:\n",
    "    if df[column].nunique() == 1:\n",
    "        print(\"Are all values in '{}' the same\".format(column))\n",
    "        data_df=data_df.drop(column,axis=1)"
   ]
  },
  {
   "cell_type": "markdown",
   "id": "1085e128-a450-4f9d-a713-3c9ea6f65387",
   "metadata": {},
   "source": [
    "Vậy là không có cột nào trùng giá trị với nhau."
   ]
  },
  {
   "cell_type": "markdown",
   "id": "cdd556a7-6153-49b6-83f9-80892e948b50",
   "metadata": {},
   "source": [
    "## Categorical columns"
   ]
  },
  {
   "cell_type": "code",
   "execution_count": 11,
   "id": "ddf341a2-8120-4812-87cd-d1b3fb813694",
   "metadata": {},
   "outputs": [
    {
     "data": {
      "text/html": [
       "<div>\n",
       "<style scoped>\n",
       "    .dataframe tbody tr th:only-of-type {\n",
       "        vertical-align: middle;\n",
       "    }\n",
       "\n",
       "    .dataframe tbody tr th {\n",
       "        vertical-align: top;\n",
       "    }\n",
       "\n",
       "    .dataframe thead th {\n",
       "        text-align: right;\n",
       "    }\n",
       "</style>\n",
       "<table border=\"1\" class=\"dataframe\">\n",
       "  <thead>\n",
       "    <tr style=\"text-align: right;\">\n",
       "      <th></th>\n",
       "      <th>AIRLINE_ID</th>\n",
       "      <th>CARRIER_NAME</th>\n",
       "      <th>ORIGIN</th>\n",
       "      <th>ORIGIN_CITY_NAME</th>\n",
       "      <th>ORIGIN_STATE_ABR</th>\n",
       "      <th>ORIGIN_STATE_NM</th>\n",
       "      <th>ORIGIN_COUNTRY</th>\n",
       "      <th>ORIGIN_COUNTRY_NAME</th>\n",
       "      <th>DEST</th>\n",
       "      <th>DEST_CITY_NAME</th>\n",
       "      <th>DEST_STATE_ABR</th>\n",
       "      <th>DEST_STATE_NM</th>\n",
       "      <th>DEST_COUNTRY</th>\n",
       "      <th>DEST_COUNTRY_NAME</th>\n",
       "    </tr>\n",
       "  </thead>\n",
       "  <tbody>\n",
       "    <tr>\n",
       "      <th>num_diff_vals</th>\n",
       "      <td>606</td>\n",
       "      <td>671</td>\n",
       "      <td>3490</td>\n",
       "      <td>3165</td>\n",
       "      <td>67</td>\n",
       "      <td>67</td>\n",
       "      <td>198</td>\n",
       "      <td>198</td>\n",
       "      <td>3728</td>\n",
       "      <td>3375</td>\n",
       "      <td>66</td>\n",
       "      <td>66</td>\n",
       "      <td>207</td>\n",
       "      <td>207</td>\n",
       "    </tr>\n",
       "    <tr>\n",
       "      <th>distribution</th>\n",
       "      <td>{'19393.0': 607779, '19977.0': 355274, '19790....</td>\n",
       "      <td>{'Southwest Airlines Co.': 607779, 'United Air...</td>\n",
       "      <td>{'ORD': 160799, 'ATL': 128433, 'MIA': 125546, ...</td>\n",
       "      <td>{'Chicago, IL': 191992, 'New York, NY': 162023...</td>\n",
       "      <td>{'AK': 596877, 'CA': 453174, 'FL': 452290, 'TX...</td>\n",
       "      <td>{'Alaska': 596877, 'California': 453174, 'Flor...</td>\n",
       "      <td>{'US': 5599556, 'CA': 117492, 'MX': 111882, 'G...</td>\n",
       "      <td>{'United States': 5599556, 'Canada': 117492, '...</td>\n",
       "      <td>{'ORD': 157431, 'ATL': 126761, 'LAX': 123852, ...</td>\n",
       "      <td>{'Chicago, IL': 188127, 'New York, NY': 162406...</td>\n",
       "      <td>{'AK': 598242, 'CA': 456904, 'FL': 433870, 'TX...</td>\n",
       "      <td>{'Alaska': 598242, 'California': 456904, 'Flor...</td>\n",
       "      <td>{'US': 5571134, 'CA': 117899, 'MX': 115527, 'G...</td>\n",
       "      <td>{'United States': 5571134, 'Canada': 117899, '...</td>\n",
       "    </tr>\n",
       "  </tbody>\n",
       "</table>\n",
       "</div>"
      ],
      "text/plain": [
       "                                                      AIRLINE_ID  \\\n",
       "num_diff_vals                                                606   \n",
       "distribution   {'19393.0': 607779, '19977.0': 355274, '19790....   \n",
       "\n",
       "                                                    CARRIER_NAME  \\\n",
       "num_diff_vals                                                671   \n",
       "distribution   {'Southwest Airlines Co.': 607779, 'United Air...   \n",
       "\n",
       "                                                          ORIGIN  \\\n",
       "num_diff_vals                                               3490   \n",
       "distribution   {'ORD': 160799, 'ATL': 128433, 'MIA': 125546, ...   \n",
       "\n",
       "                                                ORIGIN_CITY_NAME  \\\n",
       "num_diff_vals                                               3165   \n",
       "distribution   {'Chicago, IL': 191992, 'New York, NY': 162023...   \n",
       "\n",
       "                                                ORIGIN_STATE_ABR  \\\n",
       "num_diff_vals                                                 67   \n",
       "distribution   {'AK': 596877, 'CA': 453174, 'FL': 452290, 'TX...   \n",
       "\n",
       "                                                 ORIGIN_STATE_NM  \\\n",
       "num_diff_vals                                                 67   \n",
       "distribution   {'Alaska': 596877, 'California': 453174, 'Flor...   \n",
       "\n",
       "                                                  ORIGIN_COUNTRY  \\\n",
       "num_diff_vals                                                198   \n",
       "distribution   {'US': 5599556, 'CA': 117492, 'MX': 111882, 'G...   \n",
       "\n",
       "                                             ORIGIN_COUNTRY_NAME  \\\n",
       "num_diff_vals                                                198   \n",
       "distribution   {'United States': 5599556, 'Canada': 117492, '...   \n",
       "\n",
       "                                                            DEST  \\\n",
       "num_diff_vals                                               3728   \n",
       "distribution   {'ORD': 157431, 'ATL': 126761, 'LAX': 123852, ...   \n",
       "\n",
       "                                                  DEST_CITY_NAME  \\\n",
       "num_diff_vals                                               3375   \n",
       "distribution   {'Chicago, IL': 188127, 'New York, NY': 162406...   \n",
       "\n",
       "                                                  DEST_STATE_ABR  \\\n",
       "num_diff_vals                                                 66   \n",
       "distribution   {'AK': 598242, 'CA': 456904, 'FL': 433870, 'TX...   \n",
       "\n",
       "                                                   DEST_STATE_NM  \\\n",
       "num_diff_vals                                                 66   \n",
       "distribution   {'Alaska': 598242, 'California': 456904, 'Flor...   \n",
       "\n",
       "                                                    DEST_COUNTRY  \\\n",
       "num_diff_vals                                                207   \n",
       "distribution   {'US': 5571134, 'CA': 117899, 'MX': 115527, 'G...   \n",
       "\n",
       "                                               DEST_COUNTRY_NAME  \n",
       "num_diff_vals                                                207  \n",
       "distribution   {'United States': 5571134, 'Canada': 117899, '...  "
      ]
     },
     "execution_count": 11,
     "metadata": {},
     "output_type": "execute_result"
    }
   ],
   "source": [
    "columns_to_count=['AIRLINE_ID', 'CARRIER_NAME','ORIGIN','ORIGIN_CITY_NAME','ORIGIN_STATE_ABR','ORIGIN_STATE_NM','ORIGIN_COUNTRY','ORIGIN_COUNTRY_NAME','DEST','DEST_CITY_NAME','DEST_STATE_ABR','DEST_STATE_NM','DEST_COUNTRY','DEST_COUNTRY_NAME']\n",
    "cate_df=df[columns_to_count]\n",
    "cate_profile={}\n",
    "def valuecount(col):\n",
    "    # Count the occurrences of each attribute in the column\n",
    "    unique_attributes = df[col.name].value_counts().to_dict()\n",
    "    cate_profile[col.name]= {\"num_diff_vals\": len(unique_attributes), \"distribution\": unique_attributes}\n",
    "cate_df.agg(valuecount)\n",
    "cate_profile=pd.DataFrame(data=cate_profile,index=[\"num_diff_vals\", \"distribution\"])\n",
    "\n",
    "cate_profile"
   ]
  },
  {
   "cell_type": "markdown",
   "id": "d505f22d-9b95-469d-9c96-58dd38291d39",
   "metadata": {},
   "source": [
    "Điền giá trị thiếu cho `ORIGIN_STATE_ABR`, `ORIGIN_STATE_NM`, `DEST_STATE_ABR`, `DEST_STATE_NM`. Ta điền bằng cách thêm lớp `Unknown` vì những cột này có giá trị thiếu là lớn so với các giá trị khác, nên không thể lấy giá trị khác điền vào vì điều đó sẽ gây mất cân bằng phân bố.  "
   ]
  },
  {
   "cell_type": "code",
   "execution_count": 12,
   "id": "ee90f995-7899-4f35-bedf-d6fcd56a010a",
   "metadata": {},
   "outputs": [],
   "source": [
    "columns_to_fill = ['ORIGIN_STATE_ABR', 'ORIGIN_STATE_NM', 'DEST_STATE_ABR', 'DEST_STATE_NM']\n",
    "\n",
    "for column in columns_to_fill:\n",
    "    df[column].fillna('Unknown', inplace=True)"
   ]
  },
  {
   "cell_type": "code",
   "execution_count": 13,
   "id": "0ab87680-288e-464e-b81e-8de8b6004019",
   "metadata": {},
   "outputs": [
    {
     "data": {
      "text/html": [
       "<div>\n",
       "<style scoped>\n",
       "    .dataframe tbody tr th:only-of-type {\n",
       "        vertical-align: middle;\n",
       "    }\n",
       "\n",
       "    .dataframe tbody tr th {\n",
       "        vertical-align: top;\n",
       "    }\n",
       "\n",
       "    .dataframe thead th {\n",
       "        text-align: right;\n",
       "    }\n",
       "</style>\n",
       "<table border=\"1\" class=\"dataframe\">\n",
       "  <thead>\n",
       "    <tr style=\"text-align: right;\">\n",
       "      <th></th>\n",
       "      <th>AIRLINE_ID</th>\n",
       "      <th>CARRIER_NAME</th>\n",
       "      <th>ORIGIN</th>\n",
       "      <th>ORIGIN_CITY_NAME</th>\n",
       "      <th>ORIGIN_STATE_ABR</th>\n",
       "      <th>ORIGIN_STATE_NM</th>\n",
       "      <th>ORIGIN_COUNTRY</th>\n",
       "      <th>ORIGIN_COUNTRY_NAME</th>\n",
       "      <th>DEST</th>\n",
       "      <th>DEST_CITY_NAME</th>\n",
       "      <th>DEST_STATE_ABR</th>\n",
       "      <th>DEST_STATE_NM</th>\n",
       "      <th>DEST_COUNTRY</th>\n",
       "      <th>DEST_COUNTRY_NAME</th>\n",
       "    </tr>\n",
       "  </thead>\n",
       "  <tbody>\n",
       "    <tr>\n",
       "      <th>unique</th>\n",
       "      <td>606</td>\n",
       "      <td>671</td>\n",
       "      <td>3490</td>\n",
       "      <td>3165</td>\n",
       "      <td>68</td>\n",
       "      <td>68</td>\n",
       "      <td>198</td>\n",
       "      <td>198</td>\n",
       "      <td>3728</td>\n",
       "      <td>3375</td>\n",
       "      <td>67</td>\n",
       "      <td>67</td>\n",
       "      <td>207</td>\n",
       "      <td>207</td>\n",
       "    </tr>\n",
       "    <tr>\n",
       "      <th>top</th>\n",
       "      <td>19393.0</td>\n",
       "      <td>Southwest Airlines Co.</td>\n",
       "      <td>ORD</td>\n",
       "      <td>Chicago, IL</td>\n",
       "      <td>AK</td>\n",
       "      <td>Alaska</td>\n",
       "      <td>US</td>\n",
       "      <td>United States</td>\n",
       "      <td>ORD</td>\n",
       "      <td>Chicago, IL</td>\n",
       "      <td>AK</td>\n",
       "      <td>Alaska</td>\n",
       "      <td>US</td>\n",
       "      <td>United States</td>\n",
       "    </tr>\n",
       "    <tr>\n",
       "      <th>freq</th>\n",
       "      <td>607779</td>\n",
       "      <td>607779</td>\n",
       "      <td>160799</td>\n",
       "      <td>191992</td>\n",
       "      <td>596877</td>\n",
       "      <td>596877</td>\n",
       "      <td>5599556</td>\n",
       "      <td>5599556</td>\n",
       "      <td>157431</td>\n",
       "      <td>188127</td>\n",
       "      <td>598242</td>\n",
       "      <td>598242</td>\n",
       "      <td>5571134</td>\n",
       "      <td>5571134</td>\n",
       "    </tr>\n",
       "  </tbody>\n",
       "</table>\n",
       "</div>"
      ],
      "text/plain": [
       "       AIRLINE_ID            CARRIER_NAME  ORIGIN ORIGIN_CITY_NAME  \\\n",
       "unique        606                     671    3490             3165   \n",
       "top       19393.0  Southwest Airlines Co.     ORD      Chicago, IL   \n",
       "freq       607779                  607779  160799           191992   \n",
       "\n",
       "       ORIGIN_STATE_ABR ORIGIN_STATE_NM ORIGIN_COUNTRY ORIGIN_COUNTRY_NAME  \\\n",
       "unique               68              68            198                 198   \n",
       "top                  AK          Alaska             US       United States   \n",
       "freq             596877          596877        5599556             5599556   \n",
       "\n",
       "          DEST DEST_CITY_NAME DEST_STATE_ABR DEST_STATE_NM DEST_COUNTRY  \\\n",
       "unique    3728           3375             67            67          207   \n",
       "top        ORD    Chicago, IL             AK        Alaska           US   \n",
       "freq    157431         188127         598242        598242      5571134   \n",
       "\n",
       "       DEST_COUNTRY_NAME  \n",
       "unique               207  \n",
       "top        United States  \n",
       "freq             5571134  "
      ]
     },
     "execution_count": 13,
     "metadata": {},
     "output_type": "execute_result"
    }
   ],
   "source": [
    "df.describe(include='object')[1:]"
   ]
  },
  {
   "cell_type": "markdown",
   "id": "fe26744c-61c9-4829-aaa8-079555339ced",
   "metadata": {},
   "source": [
    "Nhận thấy rằng `ORIGIN_STATE_ABR` và `ORIGIN_STATE_NM`, `ORIGIN_COUNTRY` và `ORIGIN_COUNTRY_NAME`,`DEST_STATE_ABR` và `DEST_STATE_NM`,`DEST_COUNTRY` và `DEST_COUNTRY_NAME` có thể giống nhau nên ta so sánh về mặt số lượng giá trị, nếu tất cả số lượng giá trị đều giống nhau, ta bỏ 1 trong 2 cột để làm gọn lại dữ liệu."
   ]
  },
  {
   "cell_type": "code",
   "execution_count": 14,
   "id": "8ea4fa1a-e024-4a6c-a9a0-0fcd938a90f6",
   "metadata": {},
   "outputs": [],
   "source": [
    "cols_to_drop = []\n",
    "if (list(cate_profile['ORIGIN_COUNTRY']['distribution'].values()) == list(cate_profile['ORIGIN_COUNTRY_NAME']['distribution'].values())):\n",
    "    cols_to_drop.append('ORIGIN_COUNTRY')\n",
    "if (list(cate_profile['ORIGIN_STATE_ABR']['distribution'].values()) == list(cate_profile['ORIGIN_STATE_NM']['distribution'].values())):\n",
    "    cols_to_drop.append('ORIGIN_STATE_ABR')\n",
    "if (list(cate_profile['DEST_STATE_ABR']['distribution'].values()) == list(cate_profile['DEST_STATE_NM']['distribution'].values())):\n",
    "    cols_to_drop.append('DEST_STATE_ABR')\n",
    "if (list(cate_profile['DEST_COUNTRY']['distribution'].values()) == list(cate_profile['DEST_COUNTRY_NAME']['distribution'].values())):\n",
    "    cols_to_drop.append('DEST_COUNTRY')    \n",
    "df.drop(columns=cols_to_drop, inplace=True)"
   ]
  },
  {
   "cell_type": "markdown",
   "id": "99cd0d8d-48fc-41ab-9691-6f5c5f6ba229",
   "metadata": {},
   "source": [
    "## Numerical columns"
   ]
  },
  {
   "cell_type": "code",
   "execution_count": 15,
   "id": "46dc1285-fcb2-4779-b252-ec648f2251aa",
   "metadata": {},
   "outputs": [
    {
     "data": {
      "text/html": [
       "<div>\n",
       "<style scoped>\n",
       "    .dataframe tbody tr th:only-of-type {\n",
       "        vertical-align: middle;\n",
       "    }\n",
       "\n",
       "    .dataframe tbody tr th {\n",
       "        vertical-align: top;\n",
       "    }\n",
       "\n",
       "    .dataframe thead th {\n",
       "        text-align: right;\n",
       "    }\n",
       "</style>\n",
       "<table border=\"1\" class=\"dataframe\">\n",
       "  <thead>\n",
       "    <tr style=\"text-align: right;\">\n",
       "      <th></th>\n",
       "      <th>Sum_PASSENGERS</th>\n",
       "      <th>YEAR</th>\n",
       "      <th>MONTH</th>\n",
       "    </tr>\n",
       "  </thead>\n",
       "  <tbody>\n",
       "    <tr>\n",
       "      <th>mean</th>\n",
       "      <td>2701.8</td>\n",
       "      <td>2010.1</td>\n",
       "      <td>6.5</td>\n",
       "    </tr>\n",
       "    <tr>\n",
       "      <th>std</th>\n",
       "      <td>5767.6</td>\n",
       "      <td>5.7</td>\n",
       "      <td>3.5</td>\n",
       "    </tr>\n",
       "    <tr>\n",
       "      <th>min</th>\n",
       "      <td>0.0</td>\n",
       "      <td>2000.0</td>\n",
       "      <td>1.0</td>\n",
       "    </tr>\n",
       "    <tr>\n",
       "      <th>25%</th>\n",
       "      <td>6.0</td>\n",
       "      <td>2005.0</td>\n",
       "      <td>3.0</td>\n",
       "    </tr>\n",
       "    <tr>\n",
       "      <th>50%</th>\n",
       "      <td>227.0</td>\n",
       "      <td>2010.0</td>\n",
       "      <td>6.0</td>\n",
       "    </tr>\n",
       "    <tr>\n",
       "      <th>75%</th>\n",
       "      <td>3027.0</td>\n",
       "      <td>2015.0</td>\n",
       "      <td>9.0</td>\n",
       "    </tr>\n",
       "    <tr>\n",
       "      <th>max</th>\n",
       "      <td>163764.0</td>\n",
       "      <td>2020.0</td>\n",
       "      <td>12.0</td>\n",
       "    </tr>\n",
       "  </tbody>\n",
       "</table>\n",
       "</div>"
      ],
      "text/plain": [
       "      Sum_PASSENGERS    YEAR  MONTH\n",
       "mean          2701.8  2010.1    6.5\n",
       "std           5767.6     5.7    3.5\n",
       "min              0.0  2000.0    1.0\n",
       "25%              6.0  2005.0    3.0\n",
       "50%            227.0  2010.0    6.0\n",
       "75%           3027.0  2015.0    9.0\n",
       "max         163764.0  2020.0   12.0"
      ]
     },
     "execution_count": 15,
     "metadata": {},
     "output_type": "execute_result"
    }
   ],
   "source": [
    "numeric_col_profile = df.describe()[1:].round(1)\n",
    "numeric_col_profile"
   ]
  },
  {
   "cell_type": "code",
   "execution_count": 16,
   "id": "294f487c-da56-4e6f-9b39-7360f1551cf2",
   "metadata": {},
   "outputs": [
    {
     "data": {
      "text/plain": [
       "Sum_PASSENGERS         0.0\n",
       "AIRLINE_ID             0.0\n",
       "CARRIER_NAME           0.0\n",
       "ORIGIN                 0.0\n",
       "ORIGIN_CITY_NAME       0.0\n",
       "ORIGIN_STATE_NM        0.0\n",
       "ORIGIN_COUNTRY_NAME    0.0\n",
       "DEST                   0.0\n",
       "DEST_CITY_NAME         0.0\n",
       "DEST_STATE_NM          0.0\n",
       "DEST_COUNTRY_NAME      0.0\n",
       "YEAR                   0.0\n",
       "MONTH                  0.0\n",
       "dtype: float64"
      ]
     },
     "execution_count": 16,
     "metadata": {},
     "output_type": "execute_result"
    }
   ],
   "source": [
    "missing_values = df.isnull().sum()\n",
    "\n",
    "# Calculate missing ratio for each column\n",
    "missing_ratio = (missing_values / len(df)) * 100\n",
    "missing_ratio"
   ]
  },
  {
   "cell_type": "markdown",
   "id": "de71f23f-d4ad-449c-93c1-07354f132136",
   "metadata": {},
   "source": [
    "## Save processed data"
   ]
  },
  {
   "cell_type": "code",
   "execution_count": 17,
   "id": "0fbbe9a3-fa1c-4fbd-9d4c-1f3ef435be8d",
   "metadata": {},
   "outputs": [],
   "source": [
    "df.to_csv('..\\data\\Processed.csv', index=False)"
   ]
  }
 ],
 "metadata": {
  "kernelspec": {
   "display_name": "Python 3 (ipykernel)",
   "language": "python",
   "name": "python3"
  },
  "language_info": {
   "codemirror_mode": {
    "name": "ipython",
    "version": 3
   },
   "file_extension": ".py",
   "mimetype": "text/x-python",
   "name": "python",
   "nbconvert_exporter": "python",
   "pygments_lexer": "ipython3",
   "version": "3.10.8"
  }
 },
 "nbformat": 4,
 "nbformat_minor": 5
}
