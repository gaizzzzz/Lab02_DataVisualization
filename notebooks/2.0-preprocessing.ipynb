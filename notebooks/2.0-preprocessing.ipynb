{
 "cells": [
  {
   "cell_type": "markdown",
   "id": "65ef275b",
   "metadata": {},
   "source": [
    "<div style=\"text-align: center; background-color: #0A6EBD; font-family: 'Trebuchet MS', Arial, sans-serif; color: white; padding: 20px; font-size: 40px; font-weight: bold; border-radius: 0 0 0 0; box-shadow: 0px 6px 8px rgba(0, 0, 0, 0.2);\">\n",
    "  🏫 FIT@HCMUS, VNU-HCM 🏫\n",
    "</div>\n",
    "<div style=\"text-align: center; background-color: #0A6EBD; font-family: 'Trebuchet MS', Arial, sans-serif; color: white; padding: 20px; font-size: 40px; font-weight: bold; border-radius: 0 0 0 0; box-shadow: 0px 6px 8px rgba(0, 0, 0, 0.2);\">\n",
    "  Lab 02 - Data Visualization \n",
    "    <div style=\"text-align: center; background-color: #0A60BD; font-family: 'Trebuchet MS', Arial, sans-serif; color: white; padding: 20px; font-size: 40px; font-weight: bold; border-radius: 0 0 0 0; box-shadow: 0px 6px 8px rgba(0, 0, 0, 0.2);\">\n",
    "    Working with Time-series data \n",
    "</div>"
   ]
  },
  {
   "cell_type": "markdown",
   "id": "32d278f9",
   "metadata": {},
   "source": [
    "<div style=\"text-align: center; background-color: #5A96E3; font-family: 'Trebuchet MS', Arial, sans-serif; color: white; padding: 20px; font-size: 40px; font-weight: bold; border-radius: 0 0 0 0; box-shadow: 0px 6px 8px rgba(0, 0, 0, 0.2);\">\n",
    "  Stage 2 - Data Preprocessing 📌\n",
    "</div>"
   ]
  },
  {
   "cell_type": "code",
   "execution_count": null,
   "id": "4c9a9503-12a4-40c7-bb00-98c3b5a6ad03",
   "metadata": {},
   "outputs": [],
   "source": [
    "import pandas as pd\n",
    "import numpy as np\n",
    "import matplotlib.pyplot as plt"
   ]
  },
  {
   "cell_type": "markdown",
   "id": "b22af202",
   "metadata": {},
   "source": [
    "## Read data from Website"
   ]
  },
  {
   "cell_type": "code",
   "execution_count": null,
   "id": "99291448-264e-4a34-aee9-a9d1c8657536",
   "metadata": {
    "scrolled": true
   },
   "outputs": [],
   "source": [
    "url = \"https://query.data.world/s/foyszeqx4lyy7jhypsie6yusy4lkqz?dws=00000\"\n",
    "df = pd.read_csv(url)"
   ]
  },
  {
   "cell_type": "code",
   "execution_count": null,
   "id": "cc8c3a71-e93f-41b9-ba75-bfa34b0ec226",
   "metadata": {},
   "outputs": [],
   "source": [
    "df.head()"
   ]
  },
  {
   "cell_type": "code",
   "execution_count": null,
   "id": "c6f61fbf-186b-42fd-864b-2e3244c963b2",
   "metadata": {},
   "outputs": [],
   "source": [
    "n_rows=df.shape[0]\n",
    "n_cols=df.shape[1]\n",
    "n_rows, n_cols"
   ]
  },
  {
   "cell_type": "code",
   "execution_count": null,
   "id": "5258b37e-1405-4a55-bbe2-f7237b5bbb91",
   "metadata": {},
   "outputs": [],
   "source": [
    "duplicated_rows = df[df.duplicated()]\n",
    "len(duplicated_rows)"
   ]
  },
  {
   "cell_type": "code",
   "execution_count": null,
   "id": "bb065745-b01e-46fb-9ad3-c956670c3db3",
   "metadata": {},
   "outputs": [],
   "source": [
    "df.info()"
   ]
  },
  {
   "cell_type": "markdown",
   "id": "20490289-fded-403d-b97f-d7d198e6a174",
   "metadata": {},
   "source": [
    "## Convert data types"
   ]
  },
  {
   "cell_type": "code",
   "execution_count": null,
   "id": "602534d6-b5e7-4b20-abd0-c98c9f137d61",
   "metadata": {},
   "outputs": [],
   "source": [
    "df['AIRLINE_ID'] = df['AIRLINE_ID'].astype(str)"
   ]
  },
  {
   "cell_type": "code",
   "execution_count": null,
   "id": "392caf39-fddc-43b2-af15-a7b13c7df8ae",
   "metadata": {},
   "outputs": [],
   "source": [
    "missing_values = df.isnull().sum()\n",
    "\n",
    "# Calculate missing ratio for each column\n",
    "missing_ratio = (missing_values / len(df)) * 100\n",
    "missing_ratio"
   ]
  },
  {
   "cell_type": "markdown",
   "id": "ee43d6ba-2104-419c-996e-dc461d1f5bc5",
   "metadata": {},
   "source": [
    "Xóa nêu missing value <1"
   ]
  },
  {
   "cell_type": "code",
   "execution_count": null,
   "id": "7ec0c172-6617-4fb6-b4d5-4c555787b748",
   "metadata": {},
   "outputs": [],
   "source": [
    "cols_to_drop_na = missing_ratio[missing_ratio < 1].index\n",
    "df = df.dropna(subset=cols_to_drop_na)"
   ]
  },
  {
   "cell_type": "markdown",
   "id": "40989353-1b58-47e1-8b8e-ef607369932e",
   "metadata": {},
   "source": [
    "Check if any column is duplicated "
   ]
  },
  {
   "cell_type": "code",
   "execution_count": null,
   "id": "c9a57909-b9c8-405a-b912-ebcd79093937",
   "metadata": {},
   "outputs": [],
   "source": [
    "for column in df.columns:\n",
    "    if df[column].nunique() == 1:\n",
    "        print(\"Are all values in '{}' the same\".format(column))\n",
    "        data_df=data_df.drop(column,axis=1)"
   ]
  },
  {
   "cell_type": "markdown",
   "id": "cdd556a7-6153-49b6-83f9-80892e948b50",
   "metadata": {},
   "source": [
    "## Categorical columns"
   ]
  },
  {
   "cell_type": "code",
   "execution_count": null,
   "id": "ddf341a2-8120-4812-87cd-d1b3fb813694",
   "metadata": {},
   "outputs": [],
   "source": [
    "columns_to_count=['AIRLINE_ID', 'CARRIER_NAME','ORIGIN','ORIGIN_CITY_NAME','ORIGIN_STATE_ABR','ORIGIN_STATE_NM','ORIGIN_COUNTRY','ORIGIN_COUNTRY_NAME','DEST','DEST_CITY_NAME','DEST_STATE_ABR','DEST_STATE_NM','DEST_COUNTRY','DEST_COUNTRY_NAME']\n",
    "cate_df=df[columns_to_count]\n",
    "cate_profile={}\n",
    "def valuecount(col):\n",
    "    # Count the occurrences of each attribute in the column\n",
    "    unique_attributes = df[col.name].value_counts().to_dict()\n",
    "    cate_profile[col.name]= {\"num_diff_vals\": len(unique_attributes), \"distribution\": unique_attributes}\n",
    "cate_df.agg(valuecount)\n",
    "cate_profile=pd.DataFrame(data=cate_profile,index=[\"num_diff_vals\", \"distribution\"])\n",
    "\n",
    "cate_profile"
   ]
  },
  {
   "cell_type": "markdown",
   "id": "d505f22d-9b95-469d-9c96-58dd38291d39",
   "metadata": {},
   "source": [
    "fill missing value for `ORIGIN_STATE_ABR`, `ORIGIN_STATE_NM`, `DEST_STATE_ABR`, `DEST_STATE_NM`   "
   ]
  },
  {
   "cell_type": "code",
   "execution_count": null,
   "id": "ee90f995-7899-4f35-bedf-d6fcd56a010a",
   "metadata": {},
   "outputs": [],
   "source": [
    "columns_to_fill = ['ORIGIN_STATE_ABR', 'ORIGIN_STATE_NM', 'DEST_STATE_ABR', 'DEST_STATE_NM']\n",
    "\n",
    "for column in columns_to_fill:\n",
    "    df[column].fillna('Unknown', inplace=True)"
   ]
  },
  {
   "cell_type": "code",
   "execution_count": null,
   "id": "0ab87680-288e-464e-b81e-8de8b6004019",
   "metadata": {},
   "outputs": [],
   "source": [
    "df.describe(include='object')[1:]"
   ]
  },
  {
   "cell_type": "markdown",
   "id": "fe26744c-61c9-4829-aaa8-079555339ced",
   "metadata": {},
   "source": [
    "Nhận thấy rằng Origin_state_ABR và origin_state_NM có thể giống nhau, ORIGIN_COUNTRY và ORIGIN_COUNTRY_NAME có thể giống nhau nên so sánh "
   ]
  },
  {
   "cell_type": "code",
   "execution_count": null,
   "id": "8ea4fa1a-e024-4a6c-a9a0-0fcd938a90f6",
   "metadata": {},
   "outputs": [],
   "source": [
    "cols_to_drop = []\n",
    "if (list(cate_profile['ORIGIN_COUNTRY']['distribution'].values()) == list(cate_profile['ORIGIN_COUNTRY_NAME']['distribution'].values())):\n",
    "    cols_to_drop.append('ORIGIN_COUNTRY')\n",
    "if (list(cate_profile['ORIGIN_STATE_ABR']['distribution'].values()) == list(cate_profile['ORIGIN_STATE_NM']['distribution'].values())):\n",
    "    cols_to_drop.append('ORIGIN_STATE_ABR')\n",
    "if (list(cate_profile['DEST_STATE_ABR']['distribution'].values()) == list(cate_profile['DEST_STATE_NM']['distribution'].values())):\n",
    "    cols_to_drop.append('DEST_STATE_ABR')\n",
    "if (list(cate_profile['DEST_COUNTRY']['distribution'].values()) == list(cate_profile['DEST_COUNTRY_NAME']['distribution'].values())):\n",
    "    cols_to_drop.append('DEST_COUNTRY')    \n",
    "df.drop(columns=cols_to_drop, inplace=True)"
   ]
  },
  {
   "cell_type": "markdown",
   "id": "99cd0d8d-48fc-41ab-9691-6f5c5f6ba229",
   "metadata": {},
   "source": [
    "## Numerical columns"
   ]
  },
  {
   "cell_type": "code",
   "execution_count": null,
   "id": "46dc1285-fcb2-4779-b252-ec648f2251aa",
   "metadata": {},
   "outputs": [],
   "source": [
    "numeric_col_profile = df.describe()[1:].round(1)\n",
    "numeric_col_profile"
   ]
  },
  {
   "cell_type": "code",
   "execution_count": null,
   "id": "294f487c-da56-4e6f-9b39-7360f1551cf2",
   "metadata": {},
   "outputs": [],
   "source": [
    "missing_values = df.isnull().sum()\n",
    "\n",
    "# Calculate missing ratio for each column\n",
    "missing_ratio = (missing_values / len(df)) * 100\n",
    "missing_ratio"
   ]
  },
  {
   "cell_type": "markdown",
   "id": "de71f23f-d4ad-449c-93c1-07354f132136",
   "metadata": {},
   "source": [
    "## Save processed data"
   ]
  },
  {
   "cell_type": "code",
   "execution_count": null,
   "id": "0fbbe9a3-fa1c-4fbd-9d4c-1f3ef435be8d",
   "metadata": {},
   "outputs": [],
   "source": [
    "df.to_csv('..\\data\\Processed.csv', index=False)"
   ]
  }
 ],
 "metadata": {
  "kernelspec": {
   "display_name": "Python 3 (ipykernel)",
   "language": "python",
   "name": "python3"
  },
  "language_info": {
   "codemirror_mode": {
    "name": "ipython",
    "version": 3
   },
   "file_extension": ".py",
   "mimetype": "text/x-python",
   "name": "python",
   "nbconvert_exporter": "python",
   "pygments_lexer": "ipython3",
   "version": "3.10.9"
  }
 },
 "nbformat": 4,
 "nbformat_minor": 5
}
